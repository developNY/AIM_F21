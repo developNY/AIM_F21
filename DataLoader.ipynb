{
 "cells": [
  {
   "cell_type": "code",
   "execution_count": 16,
   "id": "789a6a31",
   "metadata": {},
   "outputs": [
    {
     "ename": "IndentationError",
     "evalue": "expected an indented block (<ipython-input-16-a9d6888cefaf>, line 31)",
     "output_type": "error",
     "traceback": [
      "\u001b[1;36m  File \u001b[1;32m\"<ipython-input-16-a9d6888cefaf>\"\u001b[1;36m, line \u001b[1;32m31\u001b[0m\n\u001b[1;33m    with torch.set_grad_enabled(False):\u001b[0m\n\u001b[1;37m    ^\u001b[0m\n\u001b[1;31mIndentationError\u001b[0m\u001b[1;31m:\u001b[0m expected an indented block\n"
     ]
    }
   ],
   "source": [
    "import torch\n",
    "from datasets import load_dataset\n",
    "from transformers import BertTokenizer\n",
    "from torch.utils.data import DataLoader\n",
    "import math\n",
    "\n",
    "dataset = load_dataset('csv', data_files={'train': r'C:\\Users\\sksld\\OneDrive\\Desktop\\AIM\\data\\train_sent_emo.csv',\n",
    "                                          'test': r'C:\\Users\\sksld\\OneDrive\\Desktop\\AIM\\data\\test_sent_emo.csv',\n",
    "                                          'dev': r'C:\\Users\\sksld\\OneDrive\\Desktop\\AIM\\data\\dev_sent_emo.csv'})\n",
    "tokenizer = BertTokenizer.from_pretrained('bert-base-cased')\n",
    "dataloader = DataLoader(dataset=dataset, batch_size=4, shuffle=True, num_workers=2)\n",
    "\n",
    "first_data = dataset['train'][0]\n",
    "features = first_data\n",
    "print(features)\n",
    "\n",
    "#parameters\n",
    "params = {'batch_size':64, 'shuffle':True, 'num_workers':6}\n",
    "max_epochs = 100\n",
    "\n",
    "#Generator\n",
    "training_set = Dataset(partition['train'], labels)\n",
    "training_generator = torch.utils.data.DataLoader(validation_set, **params)\n",
    "\n",
    "#loop over epochs\n",
    "for epoch in range(max_epochs):\n",
    "    #Training\n",
    "    for local_batch, local_labels in training_generator:\n",
    "        \n",
    "    #validation\n",
    "    with torch.set_grad_enabled(False):\n",
    "        for local_batch, local_labels in validation_generator:\n"
   ]
  },
  {
   "cell_type": "code",
   "execution_count": null,
   "id": "cec67a77",
   "metadata": {},
   "outputs": [],
   "source": []
  },
  {
   "cell_type": "code",
   "execution_count": null,
   "id": "9b9f482e",
   "metadata": {},
   "outputs": [],
   "source": []
  }
 ],
 "metadata": {
  "kernelspec": {
   "display_name": "Python 3",
   "language": "python",
   "name": "python3"
  },
  "language_info": {
   "codemirror_mode": {
    "name": "ipython",
    "version": 3
   },
   "file_extension": ".py",
   "mimetype": "text/x-python",
   "name": "python",
   "nbconvert_exporter": "python",
   "pygments_lexer": "ipython3",
   "version": "3.8.8"
  }
 },
 "nbformat": 4,
 "nbformat_minor": 5
}
