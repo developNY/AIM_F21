{
 "cells": [
  {
   "cell_type": "code",
   "execution_count": 2,
   "id": "eccbcd55",
   "metadata": {
    "scrolled": true
   },
   "outputs": [],
   "source": [
    "%load_ext autoreload\n",
    "\n",
    "%autoreload 2\n",
    "    \n",
    "import torch\n",
    "import pandas as pd\n",
    "from transformers import BertTokenizer\n",
    "from torch.utils.data import DataLoader\n",
    "import pytorch_lightning as pl\n",
    "\n",
    "from dataset import Dataset\n",
    "from models import CEModel"
   ]
  },
  {
   "cell_type": "code",
   "execution_count": null,
   "id": "789a6a31",
   "metadata": {},
   "outputs": [],
   "source": [
    "\n",
    "\n",
    "def main():\n",
    "    # initialize tokenizer\n",
    "    tokenizer = BertTokenizer.from_pretrained('bert-base-cased')\n",
    "    # set hyper-parameters\n",
    "    params = {'batch_size': 2, 'shuffle':True, 'num_workers': 1}\n",
    "    max_epochs = 100\n",
    "\n",
    "    # create datasets and generators\n",
    "    dataset = pd.read_csv('./data/train_sent_emo.csv')\n",
    "    label_dict = {k: i for i, k in enumerate(set(dataset['Emotion']))} # get label dict\n",
    "    train_set = Dataset(tokenizer=tokenizer,\n",
    "                          label_dict = label_dict,\n",
    "                          texts=dataset['Utterance'].to_numpy(),\n",
    "                          labels=dataset['Emotion'].to_numpy())\n",
    "    train_generator = DataLoader(train_set, **params)\n",
    "\n",
    "    dataset = pd.read_csv('./data/test_sent_emo.csv')\n",
    "    test_set = Dataset(tokenizer=tokenizer,\n",
    "                         label_dict=label_dict,\n",
    "                         texts=dataset['Utterance'].to_numpy(),\n",
    "                         labels=dataset['Emotion'].to_numpy())\n",
    "    test_generator = DataLoader(test_set, **params)\n",
    "\n",
    "    dataset = pd.read_csv('./data/dev_sent_emo.csv')\n",
    "    dev_set = Dataset(tokenizer=tokenizer,\n",
    "                        label_dict=label_dict,\n",
    "                        texts=dataset['Utterance'].to_numpy(),\n",
    "                        labels=dataset['Emotion'].to_numpy())\n",
    "    dev_generator = DataLoader(dev_set, **params)\n",
    "\n",
    "    # model\n",
    "    model = CEModel(pretrained='bert-base-cased',\n",
    "                    num_class=len(label_dict),\n",
    "                    loss_fn=torch.nn.CrossEntropyLoss())\n",
    "\n",
    "    # training\n",
    "    trainer = pl.Trainer(gpus=0, precision=32)\n",
    "    trainer.fit(model, train_generator, test_generator)\n",
    "\n",
    "    #save\n",
    "    torch.save(model, './trained_model/model1')\n",
    "    torch.load('./trained_model/model1')\n",
    "\n",
    "if __name__ == '__main__':\n",
    "    main()"
   ]
  },
  {
   "cell_type": "code",
   "execution_count": null,
   "id": "cec67a77",
   "metadata": {},
   "outputs": [],
   "source": []
  },
  {
   "cell_type": "code",
   "execution_count": null,
   "id": "9b9f482e",
   "metadata": {},
   "outputs": [],
   "source": []
  }
 ],
 "metadata": {
  "kernelspec": {
   "display_name": "Python 3 (ipykernel)",
   "language": "python",
   "name": "python3"
  },
  "language_info": {
   "codemirror_mode": {
    "name": "ipython",
    "version": 3
   },
   "file_extension": ".py",
   "mimetype": "text/x-python",
   "name": "python",
   "nbconvert_exporter": "python",
   "pygments_lexer": "ipython3",
   "version": "3.8.8"
  }
 },
 "nbformat": 4,
 "nbformat_minor": 5
}
