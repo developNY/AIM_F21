{
 "cells": [
  {
   "cell_type": "code",
   "execution_count": 1,
   "id": "789a6a31",
   "metadata": {},
   "outputs": [
    {
     "ename": "NameError",
     "evalue": "name 'load_dataset' is not defined",
     "output_type": "error",
     "traceback": [
      "\u001b[1;31m---------------------------------------------------------------------------\u001b[0m",
      "\u001b[1;31mNameError\u001b[0m                                 Traceback (most recent call last)",
      "\u001b[1;32m<ipython-input-1-185057dd2daf>\u001b[0m in \u001b[0;36m<module>\u001b[1;34m\u001b[0m\n\u001b[0;32m      6\u001b[0m \u001b[1;33m\u001b[0m\u001b[0m\n\u001b[0;32m      7\u001b[0m \u001b[1;31m#Data load\u001b[0m\u001b[1;33m\u001b[0m\u001b[1;33m\u001b[0m\u001b[1;33m\u001b[0m\u001b[0m\n\u001b[1;32m----> 8\u001b[1;33m dataset = load_dataset('csv', data_files={'train': r'C:\\Users\\sksld\\OneDrive\\Desktop\\AIM\\data\\train_sent_emo.csv',\n\u001b[0m\u001b[0;32m      9\u001b[0m                                           \u001b[1;34m'test'\u001b[0m\u001b[1;33m:\u001b[0m \u001b[1;34mr'C:\\Users\\sksld\\OneDrive\\Desktop\\AIM\\data\\test_sent_emo.csv'\u001b[0m\u001b[1;33m,\u001b[0m\u001b[1;33m\u001b[0m\u001b[1;33m\u001b[0m\u001b[0m\n\u001b[0;32m     10\u001b[0m                                           'dev': r'C:\\Users\\sksld\\OneDrive\\Desktop\\AIM\\data\\dev_sent_emo.csv'})\n",
      "\u001b[1;31mNameError\u001b[0m: name 'load_dataset' is not defined"
     ]
    }
   ],
   "source": [
    "import torch\n",
    "from transformers import BertTokenizer\n",
    "import MyDataset\n",
    "from torch.utils.data import DataLoader\n",
    "import LitAutiEncoder\n",
    "\n",
    "#Data load\n",
    "dataset = load_dataset('csv', data_files={'train': r'C:\\Users\\sksld\\OneDrive\\Desktop\\AIM\\data\\train_sent_emo.csv',\n",
    "                                          'test': r'C:\\Users\\sksld\\OneDrive\\Desktop\\AIM\\data\\test_sent_emo.csv',\n",
    "                                          'dev': r'C:\\Users\\sksld\\OneDrive\\Desktop\\AIM\\data\\dev_sent_emo.csv'})\n",
    "tokenizer = BertTokenizer.from_pretrained('bert-base-cased')\n",
    "\n",
    "#Parameters\n",
    "params = {'batch_size':64, 'shuffle':True, 'num_workers':6}\n",
    "max_epochs = 100\n",
    "\n",
    "for i in dataset['train'].length:\n",
    "    #Generator\n",
    "    train_set = MyDataset(tokenizer(dataset['train']['Utterance'][i]), dataset['train']['Sr No.'][i]) #list_IDs, labels\n",
    "    train_generator = DataLoader(validation_set, **params)\n",
    "\n",
    "    test_set = MyDataset(tokenizer(dataset['test']['Utterance'][i]), dataset['test']['Sr No.'][i])\n",
    "    test_generator = DataLoader(validation_set, **params)\n",
    "\n",
    "    dev_set = MyDataset(tokenizer(dataset['dev']['Utterance'][i]), dataset['dev']['Sr No.'][i])\n",
    "    dev_generator = DataLoader(validation_set, **params)\n",
    "\n",
    "# model\n",
    "model = LitAutoEncoder()\n",
    "\n",
    "# training\n",
    "trainer = pl.Trainer(gpus=4, precision=16, limit_train_batches=0.5)\n",
    "trainer.fit(model, train_loader, val_loader)\n",
    "\n",
    "\n",
    "# #loop over epochs\n",
    "# for epoch in range(max_epochs):\n",
    "#     #Training\n",
    "#     for local_batch, local_labels in training_generator:\n",
    "        \n",
    "#     #validation\n",
    "#     with torch.set_grad_enabled(False):\n",
    "#         for local_batch, local_labels in validation_generator:\n"
   ]
  },
  {
   "cell_type": "code",
   "execution_count": null,
   "id": "cec67a77",
   "metadata": {},
   "outputs": [],
   "source": []
  },
  {
   "cell_type": "code",
   "execution_count": null,
   "id": "9b9f482e",
   "metadata": {},
   "outputs": [],
   "source": []
  }
 ],
 "metadata": {
  "kernelspec": {
   "display_name": "Python 3",
   "language": "python",
   "name": "python3"
  }
 },
 "nbformat": 4,
 "nbformat_minor": 5
}
