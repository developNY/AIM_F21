{
 "cells": [
  {
   "cell_type": "code",
   "execution_count": 60,
   "id": "789a6a31",
   "metadata": {},
   "outputs": [
    {
     "name": "stderr",
     "output_type": "stream",
     "text": [
      "Using custom data configuration default-1d8057331723b56d\n",
      "Reusing dataset csv (C:\\Users\\sksld\\.cache\\huggingface\\datasets\\csv\\default-1d8057331723b56d\\0.0.0\\bf68a4c4aefa545d0712b2fcbb1b327f905bbe2f6425fbc5e8c25234acb9e14a)\n"
     ]
    },
    {
     "data": {
      "application/vnd.jupyter.widget-view+json": {
       "model_id": "75e2b04ef7114e7a85290bd67d76493f",
       "version_major": 2,
       "version_minor": 0
      },
      "text/plain": [
       "  0%|          | 0/3 [00:00<?, ?it/s]"
      ]
     },
     "metadata": {},
     "output_type": "display_data"
    },
    {
     "ename": "AttributeError",
     "evalue": "'Dataset' object has no attribute 'length'",
     "output_type": "error",
     "traceback": [
      "\u001b[1;31m---------------------------------------------------------------------------\u001b[0m",
      "\u001b[1;31mAttributeError\u001b[0m                            Traceback (most recent call last)",
      "\u001b[1;32m<ipython-input-60-09962a8d769d>\u001b[0m in \u001b[0;36m<module>\u001b[1;34m\u001b[0m\n\u001b[0;32m     13\u001b[0m \u001b[0mmax_epochs\u001b[0m \u001b[1;33m=\u001b[0m \u001b[1;36m100\u001b[0m\u001b[1;33m\u001b[0m\u001b[1;33m\u001b[0m\u001b[0m\n\u001b[0;32m     14\u001b[0m \u001b[1;33m\u001b[0m\u001b[0m\n\u001b[1;32m---> 15\u001b[1;33m \u001b[1;32mfor\u001b[0m \u001b[0mi\u001b[0m \u001b[1;32min\u001b[0m \u001b[0mdataset\u001b[0m\u001b[1;33m[\u001b[0m\u001b[1;34m'train'\u001b[0m\u001b[1;33m]\u001b[0m\u001b[1;33m.\u001b[0m\u001b[0mlength\u001b[0m\u001b[1;33m:\u001b[0m\u001b[1;33m\u001b[0m\u001b[1;33m\u001b[0m\u001b[0m\n\u001b[0m\u001b[0;32m     16\u001b[0m     \u001b[1;31m#Generator\u001b[0m\u001b[1;33m\u001b[0m\u001b[1;33m\u001b[0m\u001b[1;33m\u001b[0m\u001b[0m\n\u001b[0;32m     17\u001b[0m     \u001b[0mtrain_set\u001b[0m \u001b[1;33m=\u001b[0m \u001b[0mMyDataset\u001b[0m\u001b[1;33m(\u001b[0m\u001b[0mtokenizer\u001b[0m\u001b[1;33m(\u001b[0m\u001b[0mdataset\u001b[0m\u001b[1;33m[\u001b[0m\u001b[1;34m'train'\u001b[0m\u001b[1;33m]\u001b[0m\u001b[1;33m[\u001b[0m\u001b[1;34m'Utterance'\u001b[0m\u001b[1;33m]\u001b[0m\u001b[1;33m[\u001b[0m\u001b[0mi\u001b[0m\u001b[1;33m]\u001b[0m\u001b[1;33m)\u001b[0m\u001b[1;33m,\u001b[0m \u001b[0mdataset\u001b[0m\u001b[1;33m[\u001b[0m\u001b[1;34m'train'\u001b[0m\u001b[1;33m]\u001b[0m\u001b[1;33m[\u001b[0m\u001b[1;34m'Sr No.'\u001b[0m\u001b[1;33m]\u001b[0m\u001b[1;33m[\u001b[0m\u001b[0mi\u001b[0m\u001b[1;33m]\u001b[0m\u001b[1;33m)\u001b[0m \u001b[1;31m#list_IDs, labels\u001b[0m\u001b[1;33m\u001b[0m\u001b[1;33m\u001b[0m\u001b[0m\n",
      "\u001b[1;31mAttributeError\u001b[0m: 'Dataset' object has no attribute 'length'"
     ]
    }
   ],
   "source": [
    "import torch\n",
    "from transformers import BertTokenizer\n",
    "import MyDataset\n",
    "\n",
    "#Data load\n",
    "dataset = load_dataset('csv', data_files={'train': r'C:\\Users\\sksld\\OneDrive\\Desktop\\AIM\\data\\train_sent_emo.csv',\n",
    "                                          'test': r'C:\\Users\\sksld\\OneDrive\\Desktop\\AIM\\data\\test_sent_emo.csv',\n",
    "                                          'dev': r'C:\\Users\\sksld\\OneDrive\\Desktop\\AIM\\data\\dev_sent_emo.csv'})\n",
    "tokenizer = BertTokenizer.from_pretrained('bert-base-cased')\n",
    "\n",
    "#Parameters\n",
    "params = {'batch_size':64, 'shuffle':True, 'num_workers':6}\n",
    "max_epochs = 100\n",
    "\n",
    "for i in dataset['train'].length:\n",
    "    #Generator\n",
    "    train_set = MyDataset(tokenizer(dataset['train']['Utterance'][i]), dataset['train']['Sr No.'][i]) #list_IDs, labels\n",
    "    train_generator = torch.utils.data.DataLoader(validation_set, **params)\n",
    "\n",
    "    test_set = MyDataset(tokenizer(dataset['test']['Utterance'][i]), dataset['test']['Sr No.'][i])\n",
    "    test_generator = torch.utils.data.DataLoader(validation_set, **params)\n",
    "\n",
    "    dev_set = MyDataset(tokenizer(dataset['dev']['Utterance'][i]), dataset['dev']['Sr No.'][i])\n",
    "    dev_generator = torch.utils.data.DataLoader(validation_set, **params)\n",
    "\n",
    "\n",
    "# #loop over epochs\n",
    "# for epoch in range(max_epochs):\n",
    "#     #Training\n",
    "#     for local_batch, local_labels in training_generator:\n",
    "        \n",
    "#     #validation\n",
    "#     with torch.set_grad_enabled(False):\n",
    "#         for local_batch, local_labels in validation_generator:\n"
   ]
  },
  {
   "cell_type": "code",
   "execution_count": null,
   "id": "cec67a77",
   "metadata": {},
   "outputs": [],
   "source": []
  },
  {
   "cell_type": "code",
   "execution_count": null,
   "id": "9b9f482e",
   "metadata": {},
   "outputs": [],
   "source": []
  }
 ],
 "metadata": {
  "kernelspec": {
   "display_name": "Python 3",
   "language": "python",
   "name": "python3"
  },
  "language_info": {
   "codemirror_mode": {
    "name": "ipython",
    "version": 3
   },
   "file_extension": ".py",
   "mimetype": "text/x-python",
   "name": "python",
   "nbconvert_exporter": "python",
   "pygments_lexer": "ipython3",
   "version": "3.8.8"
  }
 },
 "nbformat": 4,
 "nbformat_minor": 5
}
